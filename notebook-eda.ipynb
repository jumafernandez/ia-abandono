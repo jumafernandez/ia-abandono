{
 "cells": [
  {
   "cell_type": "code",
   "execution_count": 1,
   "id": "830ccbbf-88ca-432e-861f-8e2e305f2507",
   "metadata": {},
   "outputs": [],
   "source": [
    "import pandas as pd\n",
    "from utils.config import DIRECTORIO\n",
    "from ydata_profiling import ProfileReport"
   ]
  },
  {
   "cell_type": "code",
   "execution_count": 2,
   "id": "6fd2dbad-4ab8-4569-9f65-5f207e078877",
   "metadata": {},
   "outputs": [],
   "source": [
    "df_encuesta = pd.read_excel('results/encuestas-procesadas.xlsx')"
   ]
  },
  {
   "cell_type": "code",
   "execution_count": 3,
   "id": "89b48a0f-b1f4-449c-b584-398273b80853",
   "metadata": {},
   "outputs": [
    {
     "data": {
      "text/plain": [
       "Index(['carrera', 'cohorte', 'sede', 'documento',\n",
       "       '1-¿Con quien vas a vivir durante el periodo de clases?',\n",
       "       '2-¿Por qué medio te trasladarás hasta la sede donde va a cursar durante el periodo de clases?',\n",
       "       '3-minutos',\n",
       "       '4-En la elección de la UNLu, ¿Cuánto influyó la cercanía de la sede donde vas a cursar?',\n",
       "       '5-es_gratuita', '5-me_la_recomendaron',\n",
       "       '5-no_se_toma_examen_de_ingreso', '5-otras_razones',\n",
       "       '5-por_el_prestigio_de_la_carrera', '5-por_la_cercanía',\n",
       "       '5-por_su_calidad_académica', '5-se_dicta_la_carrera_que_prefiero',\n",
       "       '6-medio_o_forma_por_el_cual_conoció_la_universidad',\n",
       "       '7-¿Qué nivel estás cursando?',\n",
       "       '8-¿Cuál fue el nivel mas alto que terminaste?',\n",
       "       '9-¿Terminaste o estás cursando tus estudios en un Colegio?',\n",
       "       '10-¿El Colegio es… (Privado/Público)', '11-Número del Colegio',\n",
       "       '12-número_del_colegio', '13-nombre_del_colegio', '14-partido/depto',\n",
       "       '14-país', '14-provincia',\n",
       "       '15-Orientación del título de Nivel Medio o Polimodal',\n",
       "       '16-descripción', '17-¿Tenés Obra Social y/o Mutual?',\n",
       "       '18-¿Trabajás actualmente?',\n",
       "       '19-La relación que hay entre tu trabajo y la Carrera que elegiste cursar es:',\n",
       "       '20-En tu trabajo principal sos...',\n",
       "       '21-¿En cuál de las siguientes ramas de la actividad ubicarías a tu trabajo principal?',\n",
       "       '22-¿Tu trabajo principal es?', '23-¿Tu trabajo principal es?',\n",
       "       '24-En una semana normal de trabajo ¿cuántas horas trabajás?',\n",
       "       '25-Tus horarios son…',\n",
       "       '26-¿Qué momentos del día abarca tu jornada de trabajo?',\n",
       "       '27-¿Podés cambiar los horarios de trabajo?',\n",
       "       '28-¿Estás en este momento buscando trabajo? (Solo para quienes no trabajan)',\n",
       "       '29-no', '29-si', '30-abuelas/os', '30-amigas/os',\n",
       "       '30-esposa/o_o_pareja', '30-hermanas/os', '30-hijas/os', '30-madre',\n",
       "       '30-otros_(especificar)', '30-padre', '30-sobrinas/os',\n",
       "       '30-vivo_sola/o', '31-especificar', '32-medio_o_polimodal',\n",
       "       '32-primario_o_egb', '32-terciario_no_universitario',\n",
       "       '32-universitarios', '33-no_trabajan_pero_estan_buscando_trabajo',\n",
       "       '33-no_trabajan_porque_estudian', '33-no_trabajan_y_no_están_buscando',\n",
       "       '33-son_jubilados_o_pensionados',\n",
       "       '33-tienen_planes_trabajar_o_similares', '33-trabajan', '34-madre',\n",
       "       '34-padre', '34-¿Tenés conocimientos de otros idiomas?',\n",
       "       '36-especificar', '36-francés', '36-inglés', '36-otros', '36-portugués',\n",
       "       '37-especificar', '37-otros', '37-tu_casa', '37-tu_trabajo',\n",
       "       '38-especificar', '38-navegación_por_internet', '38-otros',\n",
       "       '38-planilla_de_cálculo', '38-procesador_de_texto'],\n",
       "      dtype='object')"
      ]
     },
     "execution_count": 3,
     "metadata": {},
     "output_type": "execute_result"
    }
   ],
   "source": [
    "df_encuesta.columns"
   ]
  },
  {
   "cell_type": "code",
   "execution_count": 4,
   "id": "56ddcae9-75e1-4390-8ebf-fd1f24ec32be",
   "metadata": {},
   "outputs": [
    {
     "data": {
      "application/vnd.jupyter.widget-view+json": {
       "model_id": "2db0d615f18f4dcb82c31e779bf31044",
       "version_major": 2,
       "version_minor": 0
      },
      "text/plain": [
       "Summarize dataset:   0%|          | 0/5 [00:00<?, ?it/s]"
      ]
     },
     "metadata": {},
     "output_type": "display_data"
    },
    {
     "data": {
      "application/vnd.jupyter.widget-view+json": {
       "model_id": "a9d5e3cdade245319805c3c4700c1187",
       "version_major": 2,
       "version_minor": 0
      },
      "text/plain": [
       "Generate report structure:   0%|          | 0/1 [00:00<?, ?it/s]"
      ]
     },
     "metadata": {},
     "output_type": "display_data"
    },
    {
     "data": {
      "application/vnd.jupyter.widget-view+json": {
       "model_id": "c1ad02e4f27f467da3ec08178bf227ea",
       "version_major": 2,
       "version_minor": 0
      },
      "text/plain": [
       "Render HTML:   0%|          | 0/1 [00:00<?, ?it/s]"
      ]
     },
     "metadata": {},
     "output_type": "display_data"
    },
    {
     "data": {
      "application/vnd.jupyter.widget-view+json": {
       "model_id": "e31b41d741ed4a2a950a508bed52e367",
       "version_major": 2,
       "version_minor": 0
      },
      "text/plain": [
       "Export report to file:   0%|          | 0/1 [00:00<?, ?it/s]"
      ]
     },
     "metadata": {},
     "output_type": "display_data"
    }
   ],
   "source": [
    "profile = ProfileReport(df_encuesta, title=\"Reporte EDA de Encuestas UNLu de aspirantes 2013-2023\")\n",
    "profile.to_file(\"results/reporte-eda.html\")  # Genera un informe HTML"
   ]
  }
 ],
 "metadata": {
  "kernelspec": {
   "display_name": "Python 3 (Spyder)",
   "language": "python3",
   "name": "python3"
  },
  "language_info": {
   "codemirror_mode": {
    "name": "ipython",
    "version": 3
   },
   "file_extension": ".py",
   "mimetype": "text/x-python",
   "name": "python",
   "nbconvert_exporter": "python",
   "pygments_lexer": "ipython3",
   "version": "3.11.4"
  }
 },
 "nbformat": 4,
 "nbformat_minor": 5
}
